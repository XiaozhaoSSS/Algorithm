{
 "cells": [
  {
   "cell_type": "code",
   "execution_count": null,
   "metadata": {},
   "outputs": [],
   "source": [
    "from tree import DecisionTreeNode\n",
    "import numpy as np\n",
    "import operator\n",
    "import copy\n",
    "\n",
    "class KNNClassifier():\n",
    "    def __init__(self,K):\n",
    "        \n",
    "        self.K=K\n",
    "        self.kdtree=None\n",
    "        \n",
    "    def dfs(self,data,label,depth):\n",
    "            m,n=np.shape(data)\n",
    "            if m==0:return None\n",
    "            k=depth%n   #根据深度得当前用来构造数的特征维度k\n",
    "\n",
    "            data=sorted(data,key=operator.itemgetter(k))  \n",
    "            \n",
    "            new_node=DecisionTreeNode()\n",
    "            new_node.label=(k,data[m//2,k],label[m//2])\n",
    "            \n",
    "            if m==1:return new_node\n",
    "            else:\n",
    "                new_node.tree['left']=dfs(data[:m//2,:],label[:m//2],depth+1)\n",
    "                new_node.tree['right']=dfs(data[m//2+1:,:],label[m//2+1:],depth+1)\n",
    "            return new_node    \n",
    "    \n",
    "    def fit(self,X,y):        \n",
    "        self.kdtree=self.dfs(X,y,0)\n",
    "    \n",
    "    def find_nearest_k_node(self,data):\n",
    "        self.find\n",
    "    \n",
    "    def predict(self,data):\n",
    "        pred=[]\n",
    "        for x in data:\n",
    "            labels=[]\n",
    "            self.find_nearest_k_node(data)\n",
    "        "
   ]
  },
  {
   "cell_type": "code",
   "execution_count": null,
   "metadata": {},
   "outputs": [],
   "source": [
    "1//2"
   ]
  },
  {
   "cell_type": "code",
   "execution_count": null,
   "metadata": {},
   "outputs": [],
   "source": [
    "a=np.array([[1,2,3],[2,3,3],[3,2,2]])\n",
    "i=1\n",
    "np.delete(a,1,axis=0)*2"
   ]
  },
  {
   "cell_type": "code",
   "execution_count": null,
   "metadata": {},
   "outputs": [],
   "source": [
    "import numpy as np"
   ]
  },
  {
   "cell_type": "code",
   "execution_count": null,
   "metadata": {},
   "outputs": [],
   "source": [
    "a=set([2,3,4])\n",
    "a"
   ]
  },
  {
   "cell_type": "code",
   "execution_count": null,
   "metadata": {},
   "outputs": [],
   "source": [
    "a.pop()"
   ]
  },
  {
   "cell_type": "code",
   "execution_count": null,
   "metadata": {},
   "outputs": [],
   "source": [
    "a"
   ]
  },
  {
   "cell_type": "code",
   "execution_count": null,
   "metadata": {},
   "outputs": [],
   "source": [
    "a=np.zeros((2,5))\n",
    "a"
   ]
  },
  {
   "cell_type": "code",
   "execution_count": null,
   "metadata": {},
   "outputs": [],
   "source": [
    "b=a.copy()\n",
    "c=a.copy()\n",
    "b[1,2]=3\n",
    "a"
   ]
  },
  {
   "cell_type": "code",
   "execution_count": null,
   "metadata": {},
   "outputs": [],
   "source": [
    "b"
   ]
  },
  {
   "cell_type": "code",
   "execution_count": 4,
   "metadata": {},
   "outputs": [],
   "source": [
    "import numpy as np"
   ]
  },
  {
   "cell_type": "code",
   "execution_count": null,
   "metadata": {},
   "outputs": [],
   "source": [
    "def log(a):\n",
    "    print(a)\n",
    "log(2)"
   ]
  },
  {
   "cell_type": "code",
   "execution_count": 6,
   "metadata": {},
   "outputs": [
    {
     "data": {
      "text/plain": [
       "array([[0, 1, 2, 3],\n",
       "       [0, 1, 2, 3]])"
      ]
     },
     "execution_count": 6,
     "metadata": {},
     "output_type": "execute_result"
    }
   ],
   "source": [
    "np.tile(np.arange(4), (2, 1))"
   ]
  },
  {
   "cell_type": "code",
   "execution_count": null,
   "metadata": {},
   "outputs": [],
   "source": [
    "\n",
    "from sklearn.neighbors import KNeighborsClassifier"
   ]
  }
 ],
 "metadata": {
  "kernelspec": {
   "display_name": "Python 3",
   "language": "python",
   "name": "python3"
  },
  "language_info": {
   "codemirror_mode": {
    "name": "ipython",
    "version": 3
   },
   "file_extension": ".py",
   "mimetype": "text/x-python",
   "name": "python",
   "nbconvert_exporter": "python",
   "pygments_lexer": "ipython3",
   "version": "3.7.5"
  }
 },
 "nbformat": 4,
 "nbformat_minor": 2
}
