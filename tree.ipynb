{
 "cells": [
  {
   "cell_type": "code",
   "execution_count": null,
   "metadata": {},
   "outputs": [],
   "source": [
    "import numpy as np\n",
    "import math\n",
    "\n",
    "class ID3():\n",
    "    def __init__(self):\n",
    "        \n",
    "    \n",
    "    @staticmethod\n",
    "    def entropy(data):\n",
    "        '''\n",
    "        输入数据data,输出其经验熵'''\n",
    "        n=len(data)   #数据个数\n",
    "        label_dict={}\n",
    "        for i in range(n):\n",
    "            label_dict[data[i][-1]]=label_dict.get(data[i][-1],0)+1\n",
    "        k=len(label_dict)  #类别个数\n",
    "        ent=0\n",
    "        for n_k in label_dict.values():\n",
    "            ent+= n_k/n * math.log(n_k/n,2)\n",
    "        return -ent\n",
    "    \n",
    "    @staticmethod\n",
    "    def conditional_entropy(data,a):\n",
    "        '''\n",
    "        输入数据data和用来分类的特征a(即数据的第a列)'''\n",
    "        n=len(data)   #数据个数\n",
    "        con_ent=0\n",
    "        new_data=ID3.data_divide(data,a)\n",
    "        for curr_data in new_data:\n",
    "            con_ent+= len(curr_data)/n * ID3.entropy(curr_data)        \n",
    "        return -con_ent\n",
    "    \n",
    "    @staticmethod\n",
    "    def data_divide(data,a):\n",
    "        '''\n",
    "        根据第a列特征将数据划分'''\n",
    "        new_data={}\n",
    "        for curr_data in data:\n",
    "            new_data[curr_data[a]]=new_data.get(curr_data[a],[]).append(curr_data)\n",
    "        return list(new_data.values())\n",
    "    \n",
    "    "
   ]
  },
  {
   "cell_type": "code",
   "execution_count": null,
   "metadata": {},
   "outputs": [],
   "source": [
    "datasets = [['青年', '否', '否', '一般', '否'],\n",
    "           ['青年', '否', '否', '好', '否'],\n",
    "           ['青年', '是', '否', '好', '是'],\n",
    "           ['青年', '是', '是', '一般', '是'],\n",
    "           ['青年', '否', '否', '一般', '否'],\n",
    "           ['中年', '否', '否', '一般', '否'],\n",
    "           ['中年', '否', '否', '好', '否'],\n",
    "           ['中年', '是', '是', '好', '是'],\n",
    "           ['中年', '否', '是', '非常好', '是'],\n",
    "           ['中年', '否', '是', '非常好', '是'],\n",
    "           ['老年', '否', '是', '非常好', '是'],\n",
    "           ['老年', '否', '是', '好', '是'],\n",
    "           ['老年', '是', '否', '好', '是'],\n",
    "           ['老年', '是', '否', '非常好', '是'],\n",
    "           ['老年', '否', '否', '一般', '否'],\n",
    "           ]\n",
    "labels = [u'年龄', u'有工作', u'有自己的房子', u'信贷情况', u'类别']"
   ]
  }
 ],
 "metadata": {
  "kernelspec": {
   "display_name": "Python 3",
   "language": "python",
   "name": "python3"
  },
  "language_info": {
   "codemirror_mode": {
    "name": "ipython",
    "version": 3
   },
   "file_extension": ".py",
   "mimetype": "text/x-python",
   "name": "python",
   "nbconvert_exporter": "python",
   "pygments_lexer": "ipython3",
   "version": "3.7.3"
  }
 },
 "nbformat": 4,
 "nbformat_minor": 2
}
