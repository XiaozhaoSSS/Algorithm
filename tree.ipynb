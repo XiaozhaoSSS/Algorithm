{
 "cells": [
  {
   "cell_type": "code",
   "execution_count": 62,
   "metadata": {},
   "outputs": [],
   "source": [
    "import numpy as np\n",
    "import math\n",
    "from abc import abstractmethod\n",
    "import operator\n",
    "\n",
    "# 定义节点类\n",
    "class DecisionTreeNode:\n",
    "    def __init__(self, root=True, label=None, feature_name=None, feature=None):\n",
    "        self.root = root\n",
    "        self.label = label\n",
    "        self.feature_name = feature_name\n",
    "        self.feature = feature\n",
    "        self.tree = {}\n",
    "        self.result = {\n",
    "            'label:': self.label,\n",
    "            'feature': self.feature,\n",
    "            'tree': self.tree\n",
    "        }\n",
    "\n",
    "class BaseDecisionTree:\n",
    "    '''\n",
    "    @abstractmethod\n",
    "    def __init__(self,\n",
    "                 criterion,\n",
    "                 splitter,\n",
    "                 max_depth,\n",
    "                 min_samples_split,\n",
    "                 min_samples_leaf,\n",
    "                 min_weight_fraction_leaf,\n",
    "                 max_features,\n",
    "                 max_leaf_nodes,\n",
    "                 random_state,\n",
    "                 min_impurity_decrease,\n",
    "                 min_impurity_split,\n",
    "                 class_weight=None,\n",
    "                 presort=False):\n",
    "        self.criterion = criterion\n",
    "        self.splitter = splitter\n",
    "        self.max_depth = max_depth\n",
    "        self.min_samples_split = min_samples_split\n",
    "        self.min_samples_leaf = min_samples_leaf\n",
    "        self.min_weight_fraction_leaf = min_weight_fraction_leaf\n",
    "        self.max_features = max_features\n",
    "        self.random_state = random_state\n",
    "        self.max_leaf_nodes = max_leaf_nodes\n",
    "        self.min_impurity_decrease = min_impurity_decrease\n",
    "        self.min_impurity_split = min_impurity_split\n",
    "        self.class_weight = class_weight\n",
    "        self.presort = presort\n",
    "'''\n",
    "    @staticmethod\n",
    "    def entropy(data):\n",
    "        '''\n",
    "        输入数据data,输出其经验熵'''\n",
    "        n=len(data)   #数据个数\n",
    "        label_dict={}\n",
    "        for i in range(n):\n",
    "            label_dict[data[i][-1]]=label_dict.get(data[i][-1],0)+1\n",
    "        k=len(label_dict)  #类别个数\n",
    "        ent=0\n",
    "        for n_k in label_dict.values():\n",
    "            ent+= n_k/n * math.log(n_k/n,2)\n",
    "        return -ent\n",
    "    \n",
    "    @staticmethod\n",
    "    def conditional_entropy(data,a):\n",
    "        '''\n",
    "        输入数据data和用来分类的特征a(即数据的第a列),输出条件熵'''\n",
    "        n=len(data)   #数据个数\n",
    "        con_ent=0\n",
    "        new_data=BaseDecisionTree.data_divide(data,a)\n",
    "        for curr_data in new_data:\n",
    "            con_ent+= len(curr_data)/n * BaseDecisionTree.entropy(curr_data)        \n",
    "        return con_ent\n",
    "    \n",
    "    @staticmethod\n",
    "    def data_divide(data,a):\n",
    "        '''\n",
    "        根据第a列特征将数据划分'''\n",
    "        new_data={}\n",
    "        for curr_data in data:\n",
    "            new_data[curr_data[a]]=new_data.get(curr_data[a],[])\n",
    "            new_data[curr_data[a]].append(curr_data)\n",
    "        return list(new_data.values())\n",
    "    \n",
    "    @staticmethod\n",
    "    def most_class(data):\n",
    "        '''\n",
    "        返回数据集中实例数最多的类'''\n",
    "        n=len(data)   #数据个数\n",
    "        label_dict={}\n",
    "        for i in range(n):\n",
    "            label_dict[data[i][-1]]=label_dict.get(data[i][-1],0)+1\n",
    "        m=0\n",
    "        for key in label_dict.keys():\n",
    "            if label_dict[key]>m:\n",
    "                m=label_dict[key]\n",
    "                res=key\n",
    "        return res\n",
    "    \n",
    "class ID3(BaseDecisionTree):\n",
    "    def __init__(self,epsilon=1e-3):\n",
    "        self.epsilon=epsilon\n",
    "        \n",
    "    def fit(self,data):\n",
    "        def dfs(new_data,feature_list):  #递归创建树\n",
    "            if len(set([x[-1] for x in new_data]))==1:  #当前数据集所有实例都属于同一类\n",
    "                new_node=DecisionTreeNode()\n",
    "                new_node.label=ID3.most_class(new_data)\n",
    "                return new_node.result\n",
    "            print(\"feature_list\",feature_list)\n",
    "            best_feature_index,information_gain=self.__chooseBestFeature(new_data)  #选取最优的特征\n",
    "            best_feature=feature_list[best_feature_index]\n",
    "            print(\"best_feature,information_gain\",best_feature,information_gain)\n",
    "            if information_gain<self.epsilon:   #当信息增益小于阈值epsilon时停止\n",
    "                return  None\n",
    "            \n",
    "            new_node=DecisionTreeNode()\n",
    "            new_node.feature=best_feature\n",
    "            new_node.label=ID3.most_class(new_data)\n",
    "            \n",
    "            next_data_list=ID3.data_divide(new_data,best_feature)  #用最优的特征划分当前数据集\n",
    "            for next_data in next_data_list:  #对划分后的每个新数据集递归创建树\n",
    "                feature_value=next_data[0][best_feature]  #最优特征在当前数据集中的取值\n",
    "                if len(feature_list)>1:\n",
    "                    new_node.tree[feature_value]=dfs([x[:best_feature_index]+x[best_feature_index+1:] for x in next_data],\n",
    "                                                                   feature_list[:best_feature_index]+feature_list[best_feature_index+1:])\n",
    "                else:new_node.tree[feature_value]=DecisionTreeNode(label=ID3.most_class(next_data))\n",
    "            return new_node.result\n",
    "        return dfs(data,list(range(len(data[0])-1)))\n",
    "    \n",
    "    def __chooseBestFeature(self,data):#选取最优的特征\n",
    "        \n",
    "        ent=ID3.entropy(data)  #数据集的经验熵\n",
    "        n_features=len(data[0])-1  #特征个数\n",
    "        information_gain_list=[]  #每个特征对数据集的信息增益\n",
    "        for i in range(n_features):\n",
    "            information_gain_list.append(ent-ID3.conditional_entropy(data,i))\n",
    "        #获取最大的信息增益对应的特征索引及信息增益值\n",
    "        print(\"ent,information_gain_list\",ent,information_gain_list)\n",
    "        min_index, min_number = max(enumerate(information_gain_list), key=operator.itemgetter(1))  \n",
    "        return min_index, min_number"
   ]
  },
  {
   "cell_type": "code",
   "execution_count": 63,
   "metadata": {},
   "outputs": [
    {
     "data": {
      "text/plain": [
       "0.8879430945988998"
      ]
     },
     "execution_count": 63,
     "metadata": {},
     "output_type": "execute_result"
    }
   ],
   "source": [
    "BaseDecisionTree.conditional_entropy(datasets,0)"
   ]
  },
  {
   "cell_type": "code",
   "execution_count": 64,
   "metadata": {},
   "outputs": [
    {
     "name": "stdout",
     "output_type": "stream",
     "text": [
      "feature_list [0, 1, 2, 3]\n",
      "ent,information_gain_list 0.9709505944546686 [0.08300749985576883, 0.32365019815155627, 0.4199730940219749, 0.36298956253708536]\n",
      "best_feature,information_gain 2 0.4199730940219749\n",
      "feature_list [0, 1, 3]\n",
      "ent,information_gain_list 0.9182958340544896 [0.2516291673878229, 0.9182958340544896, 0.47385138961004514]\n",
      "best_feature,information_gain 1 0.9182958340544896\n"
     ]
    },
    {
     "data": {
      "text/plain": [
       "{'label:': None,\n",
       " 'feature': None,\n",
       " 'tree': {'否': {'label:': None,\n",
       "   'feature': None,\n",
       "   'tree': {'否': {'label:': None, 'feature': None, 'tree': {}},\n",
       "    '是': {'label:': None, 'feature': None, 'tree': {}}}},\n",
       "  '是': {'label:': None, 'feature': None, 'tree': {}}}}"
      ]
     },
     "execution_count": 64,
     "metadata": {},
     "output_type": "execute_result"
    }
   ],
   "source": [
    "a=ID3()\n",
    "b=a.fit(datasets)\n",
    "b"
   ]
  },
  {
   "cell_type": "code",
   "execution_count": null,
   "metadata": {},
   "outputs": [],
   "source": [
    "{'label:': None, 'feature': 2, 'tree': {'否': {'label:': None, 'feature': 1, 'tree': {'否': {'label:': '否', 'feature': None, \n",
    "'tree': {}}, '是': {'label:': '是', 'feature': None, 'tree': {}}}}, '是': {'label:': '是', 'feature': None, 'tree': {}}}}"
   ]
  },
  {
   "cell_type": "code",
   "execution_count": 10,
   "metadata": {},
   "outputs": [
    {
     "data": {
      "text/plain": [
       "[[2, 3], [2, 2]]"
      ]
     },
     "execution_count": 10,
     "metadata": {},
     "output_type": "execute_result"
    }
   ],
   "source": [
    "a=[[1,2,3],[2,2,2]]\n",
    "[x[:0]+x[1:] for x in a]"
   ]
  },
  {
   "cell_type": "code",
   "execution_count": 19,
   "metadata": {},
   "outputs": [
    {
     "data": {
      "text/plain": [
       "3"
      ]
     },
     "execution_count": 19,
     "metadata": {},
     "output_type": "execute_result"
    }
   ],
   "source": [
    "def f():\n",
    "    return 2,3\n",
    "f()[1]"
   ]
  },
  {
   "cell_type": "code",
   "execution_count": 25,
   "metadata": {},
   "outputs": [],
   "source": [
    "datasets = [['青年', '否', '否', '一般', '否否'],\n",
    "           ['青年', '否', '否', '好', '否否'],\n",
    "           ['青年', '是', '否', '好', '是是'],\n",
    "           ['青年', '是', '是', '一般', '是是'],\n",
    "           ['青年', '否', '否', '一般', '否否'],\n",
    "           ['中年', '否', '否', '一般', '否否'],\n",
    "           ['中年', '否', '否', '好', '否否'],\n",
    "           ['中年', '是', '是', '好', '是是'],\n",
    "           ['中年', '否', '是', '非常好', '是是'],\n",
    "           ['中年', '否', '是', '非常好', '是是'],\n",
    "           ['老年', '否', '是', '非常好', '是是'],\n",
    "           ['老年', '否', '是', '好', '是是'],\n",
    "           ['老年', '是', '否', '好', '是是'],\n",
    "           ['老年', '是', '否', '非常好', '是是'],\n",
    "           ['老年', '否', '否', '一般', '否否'],\n",
    "           ]\n",
    "labels = [u'年龄', u'有工作', u'有自己的房子', u'信贷情况', u'类别']"
   ]
  },
  {
   "cell_type": "code",
   "execution_count": 35,
   "metadata": {},
   "outputs": [],
   "source": [
    "a=[]\n",
    "b=[1,2,3]\n",
    "a.append(b)"
   ]
  },
  {
   "cell_type": "code",
   "execution_count": 36,
   "metadata": {},
   "outputs": [
    {
     "data": {
      "text/plain": [
       "[[1, 2, 3]]"
      ]
     },
     "execution_count": 36,
     "metadata": {},
     "output_type": "execute_result"
    }
   ],
   "source": [
    "a"
   ]
  },
  {
   "cell_type": "code",
   "execution_count": null,
   "metadata": {},
   "outputs": [],
   "source": []
  }
 ],
 "metadata": {
  "kernelspec": {
   "display_name": "Python 3",
   "language": "python",
   "name": "python3"
  },
  "language_info": {
   "codemirror_mode": {
    "name": "ipython",
    "version": 3
   },
   "file_extension": ".py",
   "mimetype": "text/x-python",
   "name": "python",
   "nbconvert_exporter": "python",
   "pygments_lexer": "ipython3",
   "version": "3.7.3"
  }
 },
 "nbformat": 4,
 "nbformat_minor": 2
}
