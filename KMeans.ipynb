{
 "cells": [
  {
   "cell_type": "code",
   "execution_count": 76,
   "metadata": {},
   "outputs": [],
   "source": [
    "import numpy as np\n",
    "class KMeans():\n",
    "    def __init__(self,K,eplision=1e-5):\n",
    "        self.K=K\n",
    "        self.eplision=eplision\n",
    "        self.labels=None\n",
    "        self.cents=None\n",
    "        \n",
    "    def init_centroid(self,data,k):\n",
    "        '''\n",
    "        初始化聚类中心\n",
    "        '''\n",
    "        n,m=np.shape(data)\n",
    "        cents=np.zeros((k,m))\n",
    "        for i in range(m):\n",
    "            min_val=min(data[:,i])\n",
    "            max_val=max(data[:,i])\n",
    "            cents[:,i] = (min_val+(max_val-min_val)*np.random.rand(k))\n",
    "        return cents\n",
    "    \n",
    "    def fit(self,data):\n",
    "        n,m=np.shape(data)\n",
    "        self.cents=self.init_centroid(data,self.K)\n",
    "        \n",
    "        while True:\n",
    "            res={}\n",
    "            labels=[]\n",
    "            for sample in data:\n",
    "                distances=np.sum((self.cents-sample)**2,axis=1)\n",
    "                label=np.argmin(distances)\n",
    "                labels.append(label)\n",
    "                res[label]=res.get(label,[])\n",
    "                res[label].append(sample)\n",
    "                \n",
    "            new_cents=np.zeros((self.K,m))\n",
    "            for i in range(self.K):\n",
    "                new_cents[i,:]=np.mean(res[i],axis=0)\n",
    "\n",
    "            self.labels=labels\n",
    "\n",
    "            if max(np.sum((new_cents-self.cents)**2,axis=1))<=self.eplision:  #当质心变化小于阈值时停止\n",
    "                break\n",
    "            self.cents=new_cents\n",
    "        \n",
    "    def predict(self,data):\n",
    "        res=[]\n",
    "        for sample in data:\n",
    "            distances=np.sum((self.cents-sample)**2,axis=1)\n",
    "            label=np.argmin(distances)\n",
    "            res.append(label)\n",
    "        return res"
   ]
  },
  {
   "cell_type": "code",
   "execution_count": 86,
   "metadata": {},
   "outputs": [
    {
     "name": "stdout",
     "output_type": "stream",
     "text": [
      "=====================KMeans聚类=====================\n",
      "训练集标签： [1, 1, 1, 0, 0, 0]\n",
      "预测结果： [1, 0]\n",
      "=====================KMeans聚类_sklearn实现=====================\n",
      "训练集标签： [1 1 1 0 0 0]\n",
      "预测结果： [1 0]\n"
     ]
    }
   ],
   "source": [
    "X = np.array([[1, 2], [1, 4], [1, 0],\n",
    "               [10, 2], [10, 4], [10, 0]])\n",
    "X_test = np.array([[0, 0], [12, 3]])\n",
    "\n",
    "print(\"=====================KMeans聚类=====================\")\n",
    "model=KMeans(K=2)\n",
    "model.fit(X)\n",
    "print('训练集标签：',model.labels)\n",
    "print('预测结果：',model.predict(X_test))\n",
    "\n",
    "print(\"=====================KMeans聚类_sklearn实现=====================\")\n",
    "from sklearn.cluster import KMeans as KMeans_sklearn\n",
    "\n",
    "kmeans = KMeans_sklearn(n_clusters=2, random_state=0).fit(X)\n",
    "print('训练集标签：',kmeans.labels_)\n",
    "print('预测结果：',kmeans.predict(X_test))"
   ]
  }
 ],
 "metadata": {
  "kernelspec": {
   "display_name": "Python 3",
   "language": "python",
   "name": "python3"
  },
  "language_info": {
   "codemirror_mode": {
    "name": "ipython",
    "version": 3
   },
   "file_extension": ".py",
   "mimetype": "text/x-python",
   "name": "python",
   "nbconvert_exporter": "python",
   "pygments_lexer": "ipython3",
   "version": "3.7.5"
  }
 },
 "nbformat": 4,
 "nbformat_minor": 2
}
