{
 "cells": [
  {
   "cell_type": "code",
   "execution_count": 1,
   "metadata": {},
   "outputs": [],
   "source": [
    "#以CART做弱分类器\n",
    "from tree import DecisionTreeNode,CARTRegressor,CARTClassifier\n",
    "\n",
    "import numpy as np\n",
    "import pandas as pd\n",
    "from sklearn.preprocessing import OneHotEncoder\n",
    "import operator\n",
    "import math\n",
    "\n",
    "class AdaboostClassfier(CARTClassifier):\n",
    "    def __init__(self,K):\n",
    "        self.K=K  #弱分类器个数\n",
    "        self.alphas=[]  #弱分类器权重\n",
    "        self.models=[]  #弱分类器\n",
    "    def fit(self,data):\n",
    "        data=np.array(data)\n",
    "        X,y=data[:,:-1],data[:,-1]\n",
    "        m=len(X)  #样本个数\n",
    "        #初始化样本权重矩阵D\n",
    "        D=[1/m]*m\n",
    "        for k in range(K):\n",
    "            #训练第k个弱分类器\n",
    "            \n",
    "            #计算误差率e\n",
    "            \n",
    "            \n",
    "            #计算弱分类器权重alpha\n",
    "            alpha=np.log((1-e)/e)/2\n",
    "            self.alphas.append(alpha)\n",
    "            \n",
    "            #更新样本权重\n",
    "        \n",
    "    def predict(self,data):\n",
    "        res=[0]*len(data)\n",
    "        for k in range(self.K):\n",
    "            res=[x+self.alphas[k]*y for x,y in zip(res,self.models[k].predict(data))]\n",
    "        res=[1 if x>0 else -1 for x in res]\n",
    "        return res\n",
    "    \n",
    "class AdaboostRegressor(CARTRegressor):\n",
    "    def __init__(self,K,min_samples_leaf=None,max_depth=None):\n",
    "        self.K=K  #弱分类器个数\n",
    "        self.alphas=[]  #弱分类器权重\n",
    "        self.models=[]  #弱分类器\n",
    "        \n",
    "        self.min_samples_leaf=min_samples_leaf\n",
    "        self.max_depth=max_depth\n",
    "        \n",
    "    def fit(self,data):\n",
    "        data=np.array(data)\n",
    "        m=len(data)  #样本个数\n",
    "        self.models=[0]*self.K\n",
    "        \n",
    "        #初始化样本权重D\n",
    "        D=[1/m]*m\n",
    "        \n",
    "        \n",
    "        for k in range(self.K):\n",
    "            #训练第k个弱分类器\n",
    "            self.models[k]=CARTRegressor(min_samples_leaf=self.min_samples_leaf,max_depth=self.max_depth)\n",
    "            self.models[k].fit(data,D)\n",
    "            \n",
    "            e_list=[]   #训练集误差\n",
    "            leaf_node_list=self.models[k].root.print_leaf_node()\n",
    "            for value,index_list in leaf_node_list:\n",
    "                for index in index_list:\n",
    "                    e_list.append((index,data[index][-1]-value))\n",
    "            e_list=sorted(e_list,key=operator.itemgetter(0))\n",
    "            e_list=[x[1] for x in e_list]\n",
    "            \n",
    "            e_max=max(e_list)    #计算训练集上最大误差\n",
    "            e_list=[x**2/e_max for x in e_list]    #计算每个样本的相对误差,以平方误差为例\n",
    "            e=sum([x*y for x,y in zip(D,e_list)])   #计算样本误差率\n",
    "            \n",
    "            alpha=e/(1-e)   #计算弱分类器权重alpha\n",
    "            self.alphas.append(alpha)\n",
    "            \n",
    "            temp=[x*alpha**(1-y) for x,y in zip(D,e_list)]\n",
    "            Z=sum(temp)    #规范化因子\n",
    "            D=[x/Z for x in temp]#更新样本权重\n",
    "            \n",
    "    def predict(self,data):\n",
    "        k_res=sorted(enumerate([math.log(1/x) for x in self.alphas]), key=operator.itemgetter(1))[(self.K+1)//2-1][0]\n",
    "        model=self.models[k_res]\n",
    "        return model.predict(data)"
   ]
  },
  {
   "cell_type": "code",
   "execution_count": 2,
   "metadata": {},
   "outputs": [
    {
     "name": "stdout",
     "output_type": "stream",
     "text": [
      "================================adaboost回归结果================================\n"
     ]
    },
    {
     "data": {
      "text/plain": [
       "[5.0600000000000005]"
      ]
     },
     "execution_count": 2,
     "metadata": {},
     "output_type": "execute_result"
    }
   ],
   "source": [
    "datasets = [[1,4.5],\n",
    "               [2,4.75],\n",
    "               [3,4.91],\n",
    "               [4,5.34],\n",
    "               [5,5.80],\n",
    "               [6,7.05],\n",
    "               [7,7.9],\n",
    "               [8,8.23],\n",
    "               [9,8.7],\n",
    "               [10,9.0]]\n",
    "print('================================adaboost回归结果================================')\n",
    "\n",
    "model=AdaboostRegressor(K=100,min_samples_leaf=1,max_depth=2)\n",
    "model.fit(datasets)\n",
    "print('预测结果：',model.predict([[1.8]]))"
   ]
  },
  {
   "cell_type": "code",
   "execution_count": null,
   "metadata": {},
   "outputs": [],
   "source": [
    "import numpy as np\n",
    "np.arange(1,10,2)"
   ]
  },
  {
   "cell_type": "code",
   "execution_count": null,
   "metadata": {},
   "outputs": [],
   "source": [
    "a=np.array([1,2,3,8,5])\n",
    "b=[2,2,2]\n",
    "a*b"
   ]
  },
  {
   "cell_type": "code",
   "execution_count": null,
   "metadata": {},
   "outputs": [],
   "source": [
    "1/3"
   ]
  },
  {
   "cell_type": "code",
   "execution_count": null,
   "metadata": {},
   "outputs": [],
   "source": [
    "2*3**3"
   ]
  },
  {
   "cell_type": "code",
   "execution_count": null,
   "metadata": {},
   "outputs": [],
   "source": [
    "9//2"
   ]
  },
  {
   "cell_type": "code",
   "execution_count": null,
   "metadata": {},
   "outputs": [],
   "source": [
    "import operator\n",
    "max(enumerate(a), key=operator.itemgetter(0))  "
   ]
  },
  {
   "cell_type": "code",
   "execution_count": null,
   "metadata": {},
   "outputs": [],
   "source": [
    "sorted(enumerate(a), key=operator.itemgetter(1))[3][0]"
   ]
  },
  {
   "cell_type": "code",
   "execution_count": null,
   "metadata": {},
   "outputs": [],
   "source": [
    "from tree import DecisionTreeNode,CARTRegressor,CARTClassifier\n",
    "class g(CARTRegressor):\n",
    "    pass\n",
    "\n",
    "a=g()\n",
    "dir(a.fit)"
   ]
  },
  {
   "cell_type": "code",
   "execution_count": 4,
   "metadata": {},
   "outputs": [
    {
     "name": "stdout",
     "output_type": "stream",
     "text": [
      "================================C45分类结果================================\n",
      "{'label': '是是', 'feature': '有自己的房子', 'tree': {'否': {'label': '否否', 'feature': '有工作', 'tree': {'否': {'label': '否否', 'feature': None, 'tree': {}}, '是': {'label': '是是', 'feature': None, 'tree': {}}}}, '是': {'label': '是是', 'feature': None, 'tree': {}}}}\n",
      "预测结果： ['否否']\n",
      "[('否否', [0, 1, 4, 5, 6, 14]), ('是是', [2, 12, 13]), ('是是', [3, 7, 8, 9, 10, 11])]\n",
      "================================ID3分类结果================================\n",
      "{'label': '是是', 'feature': '有自己的房子', 'tree': {'否': {'label': '否否', 'feature': '有工作', 'tree': {'否': {'label': '否否', 'feature': None, 'tree': {}}, '是': {'label': '是是', 'feature': None, 'tree': {}}}}, '是': {'label': '是是', 'feature': None, 'tree': {}}}}\n",
      "预测结果： ['否否']\n",
      "[('否否', [0, 1, 4, 5, 6, 14]), ('是是', [2, 12, 13]), ('是是', [3, 7, 8, 9, 10, 11])]\n",
      "================================CART分类结果================================\n",
      "{'label': '是是', 'feature': '有自己的房子', 'tree': {'=是': {'label': '是是', 'feature': None, 'tree': {}}, '≠是': {'label': '否否', 'feature': '有工作', 'tree': {'=是': {'label': '是是', 'feature': None, 'tree': {}}, '≠是': {'label': '否否', 'feature': None, 'tree': {}}}}}}\n",
      "预测结果： ['否否']\n",
      "[('是是', [3, 7, 8, 9, 10, 11]), ('是是', [2, 12, 13]), ('否否', [0, 1, 4, 5, 6, 14])]\n",
      "================================CART回归结果================================\n",
      "{'label': 6.618, 'feature': '维度一', 'tree': {'<=5.5': {'label': 5.0600000000000005, 'feature': None, 'tree': {}}, '>5.5': {'label': 8.175999999999998, 'feature': None, 'tree': {}}}, 'split_point': 5.5}\n",
      "预测结果： [5.0600000000000005]\n"
     ]
    }
   ],
   "source": [
    "%run tree.py"
   ]
  },
  {
   "cell_type": "code",
   "execution_count": null,
   "metadata": {},
   "outputs": [],
   "source": [
    "a=[(0,1),(3,2),(1,0)]\n",
    "a=sorted(a,key=operator.itemgetter(0))\n"
   ]
  },
  {
   "cell_type": "code",
   "execution_count": null,
   "metadata": {},
   "outputs": [],
   "source": [
    "a=[x[0] for x in a]"
   ]
  },
  {
   "cell_type": "code",
   "execution_count": null,
   "metadata": {},
   "outputs": [],
   "source": [
    "a"
   ]
  },
  {
   "cell_type": "code",
   "execution_count": null,
   "metadata": {},
   "outputs": [],
   "source": []
  }
 ],
 "metadata": {
  "kernelspec": {
   "display_name": "Python 3",
   "language": "python",
   "name": "python3"
  },
  "language_info": {
   "codemirror_mode": {
    "name": "ipython",
    "version": 3
   },
   "file_extension": ".py",
   "mimetype": "text/x-python",
   "name": "python",
   "nbconvert_exporter": "python",
   "pygments_lexer": "ipython3",
   "version": "3.7.5"
  }
 },
 "nbformat": 4,
 "nbformat_minor": 2
}
