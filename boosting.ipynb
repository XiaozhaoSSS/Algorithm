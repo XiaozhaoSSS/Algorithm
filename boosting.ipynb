{
 "cells": [
  {
   "cell_type": "code",
   "execution_count": null,
   "metadata": {},
   "outputs": [],
   "source": [
    "class BoostingTreeClassifier:\n",
    "    '''\n",
    "    本算法基本分类器为CART树桩'''\n",
    "    \n",
    "    \n",
    "    \n",
    "class BoostingTreeRegressor:\n",
    "    \n",
    "    \n",
    "    \n",
    "class BaseGradientBoosting:\n",
    "class GradientBoostingClassifier(BaseGradientBoosting):\n",
    "class GradientBoostingRegressor(BaseGradientBoosting):"
   ]
  }
 ],
 "metadata": {
  "kernelspec": {
   "display_name": "Python 3",
   "language": "python",
   "name": "python3"
  },
  "language_info": {
   "codemirror_mode": {
    "name": "ipython",
    "version": 3
   },
   "file_extension": ".py",
   "mimetype": "text/x-python",
   "name": "python",
   "nbconvert_exporter": "python",
   "pygments_lexer": "ipython3",
   "version": "3.7.3"
  }
 },
 "nbformat": 4,
 "nbformat_minor": 2
}
