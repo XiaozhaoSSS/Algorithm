{
 "cells": [
  {
   "cell_type": "code",
   "execution_count": null,
   "metadata": {},
   "outputs": [],
   "source": [
    "class svc():\n",
    "    def __init__(self, C=1.0, kernel='rbf', degree=3, gamma='scale',\n",
    "                 coef0=0.0, shrinking=True, probability=False,\n",
    "                 tol=1e-3, cache_size=200, class_weight=None,\n",
    "                 verbose=False, max_iter=-1, decision_function_shape='ovr',\n",
    "                 break_ties=False,\n",
    "                 random_state=None):\n",
    "        \n",
    "        \n",
    "        self.decision_function_shape=decision_function_shape\n",
    "        self.w=None\n",
    "        self.b=None\n",
    "    def fit(self,data):\n",
    "        X,label=data[:,:-1],data[:,-1]\n",
    "        if len(set(label))>2:y=self.divide_data(label)\n",
    "        else:y=[self.label_to_1(label)]\n",
    "        for curr_y in y:\n",
    "            w,b=self.smo(X,curr_y)\n",
    "            self.w.append(w)\n",
    "            self.b.append(b)\n",
    "    \n",
    "    def divide_data(self,label):\n",
    "        #多分类时，根据ovo还是ovr生成新标签\n",
    "        if self.decision_function_shape=='ovr':return self.one_vs_rest(label)\n",
    "        elif :self.decision_function_shape=='ovo':return self.one_vs_one(label)\n",
    "        else:raise Exception(print(\"参数输入错误，请在'ovr'和'ovo'中选择,建议'ovr'\"))\n",
    "            \n",
    "    def one_vs_rest(self,label):\n",
    "        label_list=list(set(label))\n",
    "        new_labels={}\n",
    "        for curr_label in label_list:\n",
    "            new_labels[curr_label]=[1 if x==curr_label else -1 for x in label]\n",
    "        return new_labels\n",
    "    \n",
    "    def label_to_1(self,label):\n",
    "        #将标签转为-1和1,原始标签值小的替换为-1\n",
    "        return [-1 if x==min(label) else 1 for x in label]\n",
    "        \n",
    "        \n",
    "    def smo(self,X,y):\n",
    "        \n",
    "    def predict_prob(self,data):\n",
    "        "
   ]
  },
  {
   "cell_type": "code",
   "execution_count": 2,
   "metadata": {},
   "outputs": [
    {
     "data": {
      "text/plain": [
       "3"
      ]
     },
     "execution_count": 2,
     "metadata": {},
     "output_type": "execute_result"
    }
   ],
   "source": [
    "len(set([1,2,3,1]))"
   ]
  },
  {
   "cell_type": "code",
   "execution_count": 11,
   "metadata": {},
   "outputs": [
    {
     "data": {
      "text/plain": [
       "[-1, 1, -1, 1]"
      ]
     },
     "execution_count": 11,
     "metadata": {},
     "output_type": "execute_result"
    }
   ],
   "source": [
    "import numpy as np\n",
    "a=[2,3,2,3]\n",
    "[-1 if x==min(a) else 1 for x in a]"
   ]
  },
  {
   "cell_type": "code",
   "execution_count": 12,
   "metadata": {},
   "outputs": [
    {
     "name": "stdout",
     "output_type": "stream",
     "text": [
      "出错了\n"
     ]
    },
    {
     "ename": "Exception",
     "evalue": "None",
     "output_type": "error",
     "traceback": [
      "\u001b[1;31m---------------------------------------------------------------------------\u001b[0m",
      "\u001b[1;31mException\u001b[0m                                 Traceback (most recent call last)",
      "\u001b[1;32m<ipython-input-12-5bff370c0e2e>\u001b[0m in \u001b[0;36m<module>\u001b[1;34m\u001b[0m\n\u001b[1;32m----> 1\u001b[1;33m \u001b[1;32mraise\u001b[0m \u001b[0mException\u001b[0m\u001b[1;33m(\u001b[0m\u001b[0mprint\u001b[0m\u001b[1;33m(\u001b[0m\u001b[1;34m'出错了'\u001b[0m\u001b[1;33m)\u001b[0m\u001b[1;33m)\u001b[0m\u001b[1;33m\u001b[0m\u001b[1;33m\u001b[0m\u001b[0m\n\u001b[0m",
      "\u001b[1;31mException\u001b[0m: None"
     ]
    }
   ],
   "source": [
    "raise Exception(print('出错了'))"
   ]
  },
  {
   "cell_type": "code",
   "execution_count": null,
   "metadata": {},
   "outputs": [],
   "source": []
  }
 ],
 "metadata": {
  "kernelspec": {
   "display_name": "Python 3",
   "language": "python",
   "name": "python3"
  },
  "language_info": {
   "codemirror_mode": {
    "name": "ipython",
    "version": 3
   },
   "file_extension": ".py",
   "mimetype": "text/x-python",
   "name": "python",
   "nbconvert_exporter": "python",
   "pygments_lexer": "ipython3",
   "version": "3.7.5"
  }
 },
 "nbformat": 4,
 "nbformat_minor": 2
}
